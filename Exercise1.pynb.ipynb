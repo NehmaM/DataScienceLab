{
  "metadata": {
    "language_info": {
      "codemirror_mode": {
        "name": "python",
        "version": 3
      },
      "file_extension": ".py",
      "mimetype": "text/x-python",
      "name": "python",
      "nbconvert_exporter": "python",
      "pygments_lexer": "ipython3",
      "version": "3.8"
    },
    "kernelspec": {
      "name": "python",
      "display_name": "Python (Pyodide)",
      "language": "python"
    }
  },
  "nbformat_minor": 4,
  "nbformat": 4,
  "cells": [
    {
      "cell_type": "code",
      "source": "#1:Numpy program to create an element wise comparison of tw given arrays.\nimport numpy as np\narr1 = np.array([3, 2, 3])\narr2 = np.array([1, 6, 3])\nprint(\"Array1:\",arr1)\nprint(\"Array2:\",arr2)\n\nprint(\"\\nElement wise comparison:\")\nprint(\"\\ngreater\")\nprint(\"--------------\")\nprint(np.greater(arr1,arr2))\nprint(\"\\ngreater_equal\")\nprint(\"--------------\")\nprint(np.greater_equal(arr1,arr2))\nprint(\"\\nless\")\nprint(\"--------------\")\nprint(np.less(arr1,arr2))\nprint(\"\\nless_equal\")\nprint(\"--------------\")\nprint(np.less_equal(arr1,arr2))\n\n",
      "metadata": {
        "trusted": true
      },
      "execution_count": 14,
      "outputs": [
        {
          "name": "stdout",
          "text": "Array1: [3 2 3]\nArray2: [1 6 3]\n\nElement wise comparison:\n\ngreater\n--------------\n[ True False False]\n\ngreater_equal\n--------------\n[ True False  True]\n\nless\n--------------\n[False  True False]\n\nless_equal\n--------------\n[False  True  True]\n",
          "output_type": "stream"
        }
      ]
    },
    {
      "cell_type": "code",
      "source": "#2:Numpy program to create an element wise comparison of tw given arrays.\nimport numpy as np\nx=np.arange(30,71,2)\nprint(\"Even integers from 30 to 70:\")\nprint(x) ",
      "metadata": {
        "trusted": true
      },
      "execution_count": 15,
      "outputs": [
        {
          "name": "stdout",
          "text": "Even integers from 30 to 70:\n[30 32 34 36 38 40 42 44 46 48 50 52 54 56 58 60 62 64 66 68 70]\n",
          "output_type": "stream"
        }
      ]
    },
    {
      "cell_type": "code",
      "source": "#3:Numpy program to create 3*3 identity matrix\nimport numpy as np\nImatrix=np.identity(3)\nprint('Identity matrix:')\nprint(Imatrix)",
      "metadata": {
        "trusted": true
      },
      "execution_count": 16,
      "outputs": [
        {
          "name": "stdout",
          "text": "Identity matrix:\n[[1. 0. 0.]\n [0. 1. 0.]\n [0. 0. 1.]]\n",
          "output_type": "stream"
        }
      ]
    },
    {
      "cell_type": "code",
      "source": "#4:Numpy program to create a vector  with values from 0 to 20 and change th sign of the numbers in the range from 9 to 15.\nimport numpy as np\nx = np.arange(21)\nprint(\"Original vector:\")\nprint(x)\nprint(\"Modified vector:\")\nx[(x >= 9) & (x <= 15)] *= -1\nprint(x)",
      "metadata": {
        "trusted": true
      },
      "execution_count": 13,
      "outputs": [
        {
          "name": "stdout",
          "text": "Original vector:\n[ 0  1  2  3  4  5  6  7  8  9 10 11 12 13 14 15 16 17 18 19 20]\nModified vector:\n[  0   1   2   3   4   5   6   7   8  -9 -10 -11 -12 -13 -14 -15  16  17\n  18  19  20]\n",
          "output_type": "stream"
        }
      ]
    },
    {
      "cell_type": "code",
      "source": "#5:Numpy program to create a 5*5 zero matrix with elements on the main diagonal equal to 1,2,3,4,5.\nimport numpy as np\nx = np.diag([1, 2, 3, 4, 5])\nprint(x)",
      "metadata": {
        "trusted": true
      },
      "execution_count": 17,
      "outputs": [
        {
          "name": "stdout",
          "text": "[[1 0 0 0 0]\n [0 2 0 0 0]\n [0 0 3 0 0]\n [0 0 0 4 0]\n [0 0 0 0 5]]\n",
          "output_type": "stream"
        }
      ]
    },
    {
      "cell_type": "code",
      "source": "#6:Numpy program to compute sum of all elements,sum of each column and sum of each row of a given array.\nimport numpy as np\nx = np.array([[1,2,3],[4,5,6]])\nprint(\"Initial array :\")\nprint(x)\nprint(\"Sum of all elements of array:\")\nprint(np.sum(x))\nprint(\"Sum of each column of array:\")\nprint(np.sum(x, axis=0))\nprint(\"Sum of each row of array:\")\nprint(np.sum(x, axis=1))",
      "metadata": {
        "trusted": true
      },
      "execution_count": 20,
      "outputs": [
        {
          "name": "stdout",
          "text": "Initial array :\n[[1 2 3]\n [4 5 6]]\nSum of all elements of array:\n21\nSum of each column of array:\n[5 7 9]\nSum of each row of array:\n[ 6 15]\n",
          "output_type": "stream"
        }
      ]
    },
    {
      "cell_type": "code",
      "source": "",
      "metadata": {},
      "execution_count": null,
      "outputs": []
    }
  ]
}