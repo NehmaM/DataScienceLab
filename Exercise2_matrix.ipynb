{
 "cells": [
  {
   "cell_type": "code",
   "execution_count": 1,
   "id": "1b7de4c2-96cb-49f3-9835-435ea3139296",
   "metadata": {},
   "outputs": [
    {
     "name": "stdout",
     "output_type": "stream",
     "text": [
      "\n",
      "Matrix1 details:\n"
     ]
    },
    {
     "name": "stdin",
     "output_type": "stream",
     "text": [
      "Enter the no of rows: 2\n",
      "Enter the no of coloumn: 2\n"
     ]
    },
    {
     "name": "stdout",
     "output_type": "stream",
     "text": [
      "Enter the entries in a single line: \n"
     ]
    },
    {
     "name": "stdin",
     "output_type": "stream",
     "text": [
      " 1 2 3 4\n"
     ]
    },
    {
     "name": "stdout",
     "output_type": "stream",
     "text": [
      "\n",
      "Matrix_1: \n",
      " [[1 2]\n",
      " [3 4]]\n",
      "\n",
      "Matrix2 details:\n"
     ]
    },
    {
     "name": "stdin",
     "output_type": "stream",
     "text": [
      "Enter the no of rows: 2\n",
      "Enter the no of coloumn: 2\n"
     ]
    },
    {
     "name": "stdout",
     "output_type": "stream",
     "text": [
      "Enter the entries in a single line: \n"
     ]
    },
    {
     "name": "stdin",
     "output_type": "stream",
     "text": [
      " 2 3 4 5\n"
     ]
    },
    {
     "name": "stdout",
     "output_type": "stream",
     "text": [
      "\n",
      "Matrix_2: \n",
      " [[2 3]\n",
      " [4 5]]\n"
     ]
    }
   ],
   "source": [
    "import numpy as np\n",
    "print(\"\\nMatrix1 details:\")\n",
    "R1 = int(input(\"Enter the no of rows:\"))\n",
    "C1 = int(input(\"Enter the no of coloumn:\"))\n",
    "print(\"Enter the entries in a single line: \")\n",
    "entries = list(map(int, input().split()))\n",
    "m1 = np.array(entries).reshape(R1,C1)\n",
    "print(\"\\nMatrix_1: \\n\",m1)\n",
    "\n",
    "print(\"\\nMatrix2 details:\")\n",
    "R2 = int(input(\"Enter the no of rows:\"))\n",
    "C2= int(input(\"Enter the no of coloumn:\"))\n",
    "print(\"Enter the entries in a single line: \")\n",
    "entries = list(map(int, input().split()))\n",
    "m2 = np.array(entries).reshape(R2,C2)\n",
    "print(\"\\nMatrix_2: \\n\",m2)"
   ]
  },
  {
   "cell_type": "code",
   "execution_count": 2,
   "id": "5715adb3-a6ef-4f73-8b70-67b82ac10cf9",
   "metadata": {},
   "outputs": [
    {
     "name": "stdout",
     "output_type": "stream",
     "text": [
      "1.Dot product\n",
      "[[10 13]\n",
      " [22 29]]\n"
     ]
    }
   ],
   "source": [
    "#1\n",
    "print(\"1.Dot product\")\n",
    "print(np.dot(m1,m2))"
   ]
  },
  {
   "cell_type": "code",
   "execution_count": 10,
   "id": "7676d813-435f-47ec-83c3-cc71b13410a8",
   "metadata": {},
   "outputs": [
    {
     "name": "stdout",
     "output_type": "stream",
     "text": [
      "2.Transpose\n",
      "\n",
      "Transpose of matrix1\n",
      "[[1 3]\n",
      " [2 4]]\n",
      "Transpose of matrix2\n",
      "[[2 4]\n",
      " [3 5]]\n"
     ]
    }
   ],
   "source": [
    "#2\n",
    "print(\"2.Transpose\")\n",
    "print(\"\\nTranspose of matrix1\")\n",
    "print(np.transpose(m1))\n",
    "print(\"Transpose of matrix2\")\n",
    "print(np.transpose(m2))"
   ]
  },
  {
   "cell_type": "code",
   "execution_count": 11,
   "id": "68e1c4a7-11e4-4c73-b799-06faf8f83eb7",
   "metadata": {},
   "outputs": [
    {
     "name": "stdout",
     "output_type": "stream",
     "text": [
      "3.Trace\n",
      "\n",
      "Trace of matrix1\n",
      "5\n",
      "Trace of matrix2\n",
      "7\n"
     ]
    }
   ],
   "source": [
    "#3\n",
    "print(\"3.Trace\")\n",
    "print(\"\\nTrace of matrix1\")\n",
    "print(np.trace(m1))\n",
    "print(\"Trace of matrix2\")\n",
    "print(np.trace(m2))"
   ]
  },
  {
   "cell_type": "code",
   "execution_count": 12,
   "id": "33f3abd3-d06e-4ea9-aa73-133794e875f3",
   "metadata": {},
   "outputs": [
    {
     "name": "stdout",
     "output_type": "stream",
     "text": [
      "4.Rank\n",
      "\n",
      "The rank of matrix_1 : 2 \n",
      "The rank of matrix_2 : 2\n"
     ]
    }
   ],
   "source": [
    "#4\n",
    "print(\"4.Rank\")\n",
    "print(\"\\nThe rank of matrix_1 :\",np.linalg.matrix_rank(m1),\"\\nThe rank of matrix_2 :\",np.linalg.matrix_rank(m2))"
   ]
  },
  {
   "cell_type": "code",
   "execution_count": 13,
   "id": "c7ebedbb-2ed2-4e0f-8581-2114ab1f8051",
   "metadata": {},
   "outputs": [
    {
     "name": "stdout",
     "output_type": "stream",
     "text": [
      "5.determinent\n",
      "\n",
      "The determinent of matrix_1 : -2 \n",
      "The determinent of matrix_2 : -2\n"
     ]
    }
   ],
   "source": [
    "#5\n",
    "print(\"5.determinent\")\n",
    "print(\"\\nThe determinent of matrix_1 :\",int(np.linalg.det(m1)),\"\\nThe determinent of matrix_2 :\",int(np.linalg.det(m2)))"
   ]
  },
  {
   "cell_type": "code",
   "execution_count": 15,
   "id": "fd9aefa0-3632-477a-bf5b-fee5aa26648d",
   "metadata": {},
   "outputs": [
    {
     "name": "stdout",
     "output_type": "stream",
     "text": [
      "6.Inverse\n",
      "\n",
      "The inverse of matrix_1 : \n",
      " [[-2.   1. ]\n",
      " [ 1.5 -0.5]] \n",
      " The inverse of matrix_2 : \n",
      " [[-2.5  1.5]\n",
      " [ 2.  -1. ]]\n"
     ]
    }
   ],
   "source": [
    "print(\"6.Inverse\")\n",
    "print(\"\\nThe inverse of matrix_1 : \\n\",np.linalg.inv(m1),\"\\n The inverse of matrix_2 : \\n\",np.linalg.inv(m2))\n"
   ]
  },
  {
   "cell_type": "code",
   "execution_count": 18,
   "id": "0f4ee880-06f3-47a0-8f64-18546f87d932",
   "metadata": {},
   "outputs": [
    {
     "name": "stdout",
     "output_type": "stream",
     "text": [
      "a = \n",
      "[[2 2 1]\n",
      " [1 3 1]\n",
      " [1 2 2]]\n",
      "\n",
      "Eigenvalues:\n",
      "[5. 1. 1.]\n",
      "\n",
      "Eigenvectors:\n",
      "[[-0.57735027 -0.90453403  0.82529864]\n",
      " [-0.57735027  0.30151134 -0.52125218]\n",
      " [-0.57735027  0.30151134  0.21720572]]\n"
     ]
    }
   ],
   "source": [
    "#Eigenvalues and eigenvectors\n",
    "\n",
    "import numpy as np\n",
    "a = np.array([[2, 2, 1],\n",
    "               [1, 3, 1],\n",
    "               [1, 2, 2]])\n",
    "print(\"a = \")\n",
    "print(a)\n",
    "w, v = np.linalg.eig(a)\n",
    "print(\"\\nEigenvalues:\")\n",
    "print(w)\n",
    "print(\"\\nEigenvectors:\")\n",
    "print(v)\n"
   ]
  },
  {
   "cell_type": "code",
   "execution_count": null,
   "id": "5bb156b9-f04c-4d5a-91d9-6f14bb3d9b42",
   "metadata": {},
   "outputs": [],
   "source": []
  }
 ],
 "metadata": {
  "kernelspec": {
   "display_name": "Python 3 (ipykernel)",
   "language": "python",
   "name": "python3"
  },
  "language_info": {
   "codemirror_mode": {
    "name": "ipython",
    "version": 3
   },
   "file_extension": ".py",
   "mimetype": "text/x-python",
   "name": "python",
   "nbconvert_exporter": "python",
   "pygments_lexer": "ipython3",
   "version": "3.9.12"
  }
 },
 "nbformat": 4,
 "nbformat_minor": 5
}
