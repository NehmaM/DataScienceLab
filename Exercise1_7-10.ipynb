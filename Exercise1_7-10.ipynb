{
  "metadata": {
    "language_info": {
      "codemirror_mode": {
        "name": "python",
        "version": 3
      },
      "file_extension": ".py",
      "mimetype": "text/x-python",
      "name": "python",
      "nbconvert_exporter": "python",
      "pygments_lexer": "ipython3",
      "version": "3.8"
    },
    "kernelspec": {
      "name": "python",
      "display_name": "Python (Pyodide)",
      "language": "python"
    }
  },
  "nbformat_minor": 4,
  "nbformat": 4,
  "cells": [
    {
      "cell_type": "code",
      "source": "#7:numpy program to save a given array to a text file and load it.\nimport numpy as np\nimport os\nx = np.arange(6).reshape(3, 2)\nprint(\"Initial array:\")\nprint(x)\nheader = 'col1 col2 col3'\nnp.savetxt('t.txt', x, fmt=\"%d\", header=header) \nprint(\"Final array:\")\nresult = np.loadtxt('t.txt')\nprint(result)",
      "metadata": {
        "trusted": true
      },
      "execution_count": 10,
      "outputs": [
        {
          "name": "stdout",
          "text": "Initial array:\n[[0 1]\n [2 3]\n [4 5]]\nFinal array:\n[[0. 1.]\n [2. 3.]\n [4. 5.]]\n",
          "output_type": "stream"
        }
      ]
    },
    {
      "cell_type": "code",
      "source": "#8:numpy program to check whether two arrays are equal(element wise) or not\n\nimport numpy as np\nx = np.array([1,7,8])\nprint(\"1st array:\")\nprint(x)\ny = np.array([1,7,8]) #false if y=np.array([3,4,8])\nprint(\"2nd array:\")\nprint(y)\nprint(\"after testing\")\narray_equal = np.allclose(x, y)\nprint(array_equal)",
      "metadata": {
        "trusted": true
      },
      "execution_count": 12,
      "outputs": [
        {
          "name": "stdout",
          "text": "1st array:\n[1 7 8]\n2nd array:\n[1 7 8]\nafter testing\nTrue\n",
          "output_type": "stream"
        }
      ]
    },
    {
      "cell_type": "code",
      "source": "#9:numpy program to create 4*4 array with random values,now create a new array from the said array swapping first and last rows\n\nimport numpy as np\nn = np.arange(16).reshape(-1, 4)\nprint(\"Initial array:\")\nprint(n)\nprint(\"\\nAfter swapping\")\nprint(\"\\nArray :\")\nn[[0,-1],:]=n[[-1,0],:]\nprint(n)",
      "metadata": {
        "trusted": true
      },
      "execution_count": 14,
      "outputs": [
        {
          "name": "stdout",
          "text": "Initial array:\n[[ 0  1  2  3]\n [ 4  5  6  7]\n [ 8  9 10 11]\n [12 13 14 15]]\n\nAfter swapping\n\nArray :\n[[12 13 14 15]\n [ 4  5  6  7]\n [ 8  9 10 11]\n [ 0  1  2  3]]\n",
          "output_type": "stream"
        }
      ]
    },
    {
      "cell_type": "code",
      "source": "#10:numpy program to multiply two given arrays of same size element by element\n\nimport numpy as np \na = np.array([[1, 3, 2],\n              [4, 5, 2],\n            [3,8,2]])\nb = np.array([[4, 3, 1],\n              [3, 4, 5],\n              [4,2,1]])\nprint(\"1st array:\") \nprint(a)\nprint(\"2nd array:\") \nprint(b)\nprint(\"\\nAfter multiplication:\")\nprint(\"\\nFinal array:\")\nprint(np.multiply(a, b))",
      "metadata": {
        "trusted": true
      },
      "execution_count": 15,
      "outputs": [
        {
          "name": "stdout",
          "text": "1st array:\n[[1 3 2]\n [4 5 2]\n [3 8 2]]\n2nd array:\n[[4 3 1]\n [3 4 5]\n [4 2 1]]\n\nAfter multiplication:\n\nFinal array:\n[[ 4  9  2]\n [12 20 10]\n [12 16  2]]\n",
          "output_type": "stream"
        }
      ]
    },
    {
      "cell_type": "code",
      "source": "",
      "metadata": {},
      "execution_count": null,
      "outputs": []
    }
  ]
}