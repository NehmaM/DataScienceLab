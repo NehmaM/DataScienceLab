{
 "cells": [
  {
   "cell_type": "code",
   "execution_count": 12,
   "id": "c39ff6d6",
   "metadata": {},
   "outputs": [
    {
     "name": "stdout",
     "output_type": "stream",
     "text": [
      "a <class 'numpy.ndarray'>\n",
      "[[1 2]\n",
      " [3 4]]\n",
      "\n",
      "b <class 'numpy.ndarray'>\n",
      "[[ 5  6  7]\n",
      " [ 8  9 10]]\n",
      "\n",
      "c <class 'numpy.matrix'>\n",
      "[[1 2]\n",
      " [3 4]]\n",
      "\n",
      "d <class 'numpy.matrix'>\n",
      "[[ 5  6  7]\n",
      " [ 8  9 10]]\n",
      "\n",
      "dot product of two ndarray objects\n",
      "[[21 24 27]\n",
      " [47 54 61]]\n",
      "\n",
      "dot product of two matrix objects\n",
      "[[21 24 27]\n",
      " [47 54 61]]\n"
     ]
    }
   ],
   "source": [
    "#Dot product\n",
    "\n",
    "import numpy as np\n",
    "\n",
    "# Matrices as ndarray objects\n",
    "a = np.array([[1, 2], [3, 4]])\n",
    "b = np.array([[5, 6, 7], [8, 9, 10]])\n",
    "print(\"a\", type(a))\n",
    "print(a)\n",
    "print(\"\\nb\", type(b))\n",
    "print(b)\n",
    "\n",
    "# Matrices as matrix objects\n",
    "c = np.matrix([[1, 2], [3, 4]])\n",
    "d = np.matrix([[5, 6, 7], [8, 9, 10]])\n",
    "print(\"\\nc\", type(c))\n",
    "print(c)\n",
    "print(\"\\nd\", type(d))\n",
    "print(d)\n",
    "print(\"\\ndot product of two ndarray objects\")\n",
    "print(np.dot(a, b))\n",
    "print(\"\\ndot product of two matrix objects\")\n",
    "print(np.dot(c, d))"
   ]
  },
  {
   "cell_type": "code",
   "execution_count": 14,
   "id": "6015c6eb",
   "metadata": {},
   "outputs": [
    {
     "name": "stdout",
     "output_type": "stream",
     "text": [
      "a = \n",
      "[[1 2]\n",
      " [3 4]\n",
      " [5 6]]\n",
      "\n",
      "With np.transpose(a) function\n",
      "[[1 3 5]\n",
      " [2 4 6]]\n",
      "\n",
      "With ndarray.transpose() method\n",
      "[[1 3 5]\n",
      " [2 4 6]]\n",
      "\n",
      "With ndarray.T short form\n",
      "[[1 3 5]\n",
      " [2 4 6]]\n"
     ]
    }
   ],
   "source": [
    "#Transpose\n",
    "\n",
    "import numpy as np\n",
    "\n",
    "a = np.array([[1, 2], [3, 4], [5, 6]])\n",
    "print(\"a = \")\n",
    "print(a)\n",
    "\n",
    "print(\"\\nWith np.transpose(a) function\")\n",
    "print(np.transpose(a))\n",
    "\n",
    "print(\"\\nWith ndarray.transpose() method\")\n",
    "print(a.transpose())\n",
    "\n",
    "print(\"\\nWith ndarray.T short form\")\n",
    "print(a.T)"
   ]
  },
  {
   "cell_type": "code",
   "execution_count": 13,
   "id": "c6787e62",
   "metadata": {},
   "outputs": [
    {
     "name": "stdout",
     "output_type": "stream",
     "text": [
      "a = \n",
      "[[2 2 1]\n",
      " [1 3 1]\n",
      " [1 2 2]]\n",
      "\n",
      "Trace: 7\n",
      "Trace: 7\n"
     ]
    }
   ],
   "source": [
    "#Trace\n",
    "\n",
    "import numpy as np\n",
    "a = np.array([[2, 2, 1],[1, 3, 1],[1, 2, 2]])\n",
    "print(\"a = \")\n",
    "print(a)\n",
    "print(\"\\nTrace:\", a.trace())\n",
    "print(\"Trace:\", sum(a.diagonal()))"
   ]
  },
  {
   "cell_type": "code",
   "execution_count": 16,
   "id": "fe386d0c",
   "metadata": {},
   "outputs": [
    {
     "name": "stdout",
     "output_type": "stream",
     "text": [
      "a = \n",
      "[[1 2 3]\n",
      " [4 5 6]\n",
      " [7 8 9]]\n",
      "\n",
      "Rank: 2\n"
     ]
    }
   ],
   "source": [
    "#Rank\n",
    "\n",
    "import numpy as np\n",
    "a = np.arange(1, 10)\n",
    "a.shape = (3, 3)\n",
    "print(\"a = \")\n",
    "print(a)\n",
    "rank = np.linalg.matrix_rank(a)\n",
    "print(\"\\nRank:\", rank)"
   ]
  },
  {
   "cell_type": "code",
   "execution_count": 15,
   "id": "42099819",
   "metadata": {},
   "outputs": [
    {
     "name": "stdout",
     "output_type": "stream",
     "text": [
      "a = \n",
      "[[2 2 1]\n",
      " [1 3 1]\n",
      " [1 2 2]]\n",
      "\n",
      "Determinant: 5.0\n"
     ]
    }
   ],
   "source": [
    "#Determinant\n",
    "\n",
    "import numpy as np\n",
    "a = np.array([[2, 2, 1],\n",
    "               [1, 3, 1],\n",
    "               [1, 2, 2]])\n",
    "print(\"a = \")\n",
    "print(a)\n",
    "det = np.linalg.det(a)\n",
    "print(\"\\nDeterminant:\", np.round(det))"
   ]
  },
  {
   "cell_type": "code",
   "execution_count": 17,
   "id": "8c18437c",
   "metadata": {},
   "outputs": [
    {
     "name": "stdout",
     "output_type": "stream",
     "text": [
      "a = \n",
      "[[2 2 1]\n",
      " [1 3 1]\n",
      " [1 2 2]]\n",
      "\n",
      "Determinant: 5.0\n",
      "\n",
      "Inverse of a = \n",
      "[[ 0.8 -0.4 -0.2]\n",
      " [-0.2  0.6 -0.2]\n",
      " [-0.2 -0.4  0.8]]\n"
     ]
    }
   ],
   "source": [
    "#Inverse\n",
    "\n",
    "import numpy as np\n",
    "a = np.array([[2, 2, 1],\n",
    "               [1, 3, 1],\n",
    "               [1, 2, 2]])\n",
    "print(\"a = \")\n",
    "print(a)\n",
    "det = np.linalg.det(a)\n",
    "print(\"\\nDeterminant:\", np.round(det))\n",
    "inv = np.linalg.inv(a)\n",
    "print(\"\\nInverse of a = \")\n",
    "print(inv)"
   ]
  },
  {
   "cell_type": "code",
   "execution_count": 11,
   "id": "443a158e",
   "metadata": {},
   "outputs": [
    {
     "name": "stdout",
     "output_type": "stream",
     "text": [
      "a = \n",
      "[[2 2 1]\n",
      " [1 3 1]\n",
      " [1 2 2]]\n",
      "\n",
      "Eigenvalues:\n",
      "[5. 1. 1.]\n",
      "\n",
      "Eigenvectors:\n",
      "[[-0.57735027 -0.90453403  0.82529864]\n",
      " [-0.57735027  0.30151134 -0.52125218]\n",
      " [-0.57735027  0.30151134  0.21720572]]\n"
     ]
    }
   ],
   "source": [
    "#Eigenvalues and eigenvectors\n",
    "\n",
    "import numpy as np\n",
    "a = np.array([[2, 2, 1],\n",
    "               [1, 3, 1],\n",
    "               [1, 2, 2]])\n",
    "print(\"a = \")\n",
    "print(a)\n",
    "w, v = np.linalg.eig(a)\n",
    "print(\"\\nEigenvalues:\")\n",
    "print(w)\n",
    "print(\"\\nEigenvectors:\")\n",
    "print(v)"
   ]
  },
  {
   "cell_type": "code",
   "execution_count": null,
   "id": "a35921d9",
   "metadata": {},
   "outputs": [],
   "source": []
  }
 ],
 "metadata": {
  "kernelspec": {
   "display_name": "Python 3 (ipykernel)",
   "language": "python",
   "name": "python3"
  },
  "language_info": {
   "codemirror_mode": {
    "name": "ipython",
    "version": 3
   },
   "file_extension": ".py",
   "mimetype": "text/x-python",
   "name": "python",
   "nbconvert_exporter": "python",
   "pygments_lexer": "ipython3",
   "version": "3.9.12"
  }
 },
 "nbformat": 4,
 "nbformat_minor": 5
}
