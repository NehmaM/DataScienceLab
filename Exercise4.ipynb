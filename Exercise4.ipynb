{
 "cells": [
  {
   "cell_type": "code",
   "execution_count": 10,
   "id": "7a4a4b35-c0da-4bf3-9805-53bd2dace809",
   "metadata": {},
   "outputs": [
    {
     "name": "stdout",
     "output_type": "stream",
     "text": [
      "a    how\n",
      "b    are\n",
      "c    you\n",
      "dtype: object\n"
     ]
    }
   ],
   "source": [
    "#1\n",
    "import pandas as pd\n",
    "x=pd.Series(['how','are','you'],index=['a','b','c'])\n",
    "print(x)"
   ]
  },
  {
   "cell_type": "code",
   "execution_count": 14,
   "id": "eb550a7b-30f6-4b86-9f1d-c04786da44d9",
   "metadata": {},
   "outputs": [
    {
     "name": "stdout",
     "output_type": "stream",
     "text": [
      "DatetimeIndex(['2021-05-01', '2021-05-02', '2021-05-03', '2021-05-04',\n",
      "               '2021-05-05', '2021-05-06', '2021-05-07', '2021-05-08',\n",
      "               '2021-05-09', '2021-05-10', '2021-05-11', '2021-05-12'],\n",
      "              dtype='datetime64[ns]', freq='D')\n"
     ]
    }
   ],
   "source": [
    "#2\n",
    "series_date = pd.date_range(start='05-01-2021', end ='05-12-2021')\n",
    "print(series_date)"
   ]
  },
  {
   "cell_type": "code",
   "execution_count": 22,
   "id": "b41ebcb0-56c9-4615-b081-229a52c45839",
   "metadata": {},
   "outputs": [
    {
     "name": "stdout",
     "output_type": "stream",
     "text": [
      "   name  age\n",
      "0   Ann   21\n",
      "1  Balu   19\n",
      "2  Cann   29\n"
     ]
    }
   ],
   "source": [
    "#3\n",
    "dict1={'name': ['Ann' , 'Balu' , 'Cann'],\n",
    "      'age': [21,19,29]\n",
    "      }\n",
    "dataframe = pd.DataFrame(dict1)\n",
    "print(dataframe)"
   ]
  },
  {
   "cell_type": "code",
   "execution_count": 24,
   "id": "d51201b3-00d2-4985-b402-ee25d2d16e66",
   "metadata": {},
   "outputs": [
    {
     "name": "stdout",
     "output_type": "stream",
     "text": [
      "   id   name  age\n",
      "0   1  Anika   24\n",
      "1   2  Shyam   30\n",
      "2   2    Anu   20\n"
     ]
    }
   ],
   "source": [
    "#4\n",
    "list1 = [[1,'Anika',24],\n",
    "        [2,'Shyam',30],\n",
    "         [2,'Anu',20]\n",
    "    ]\n",
    "dataframe = pd.DataFrame(list1,columns = ['id','name','age'])\n",
    "print(dataframe)"
   ]
  },
  {
   "cell_type": "code",
   "execution_count": 38,
   "id": "ce399eeb-33f2-4236-a9d5-bb3ceb78e4ca",
   "metadata": {},
   "outputs": [
    {
     "name": "stdout",
     "output_type": "stream",
     "text": [
      "   id    name  age  mark\n",
      "0   1    Zoya   23    95\n",
      "1   2  Khushi   23    80\n",
      "2   3     Ann   23    70\n"
     ]
    }
   ],
   "source": [
    "#5\n",
    "dataframe = pd.read_csv('/home/exam1/Desktop/file.csv')\n",
    "print(dataframe)"
   ]
  },
  {
   "cell_type": "code",
   "execution_count": 39,
   "id": "b0b605bc-d7ed-455a-bdd3-6f1cdd53d71b",
   "metadata": {},
   "outputs": [
    {
     "name": "stdout",
     "output_type": "stream",
     "text": [
      "   id    name  age  mark\n",
      "0   1    Zoya   23    95\n",
      "1   2  Khushi   23    80\n",
      "2   3     Ann   23    70\n",
      "\n",
      "   id    name  age  mark\n",
      "2   3     Ann   23    70\n",
      "1   2  Khushi   23    80\n",
      "0   1    Zoya   23    95\n"
     ]
    }
   ],
   "source": [
    "#6\n",
    "print(dataframe)\n",
    "print()\n",
    "sorted_frame= dataframe.sort_values(by = ['age','mark'])\n",
    "print(sorted_frame)"
   ]
  },
  {
   "cell_type": "code",
   "execution_count": 42,
   "id": "f1a7f25c-edd3-471e-a334-5ad9e75978b2",
   "metadata": {},
   "outputs": [
    {
     "name": "stdout",
     "output_type": "stream",
     "text": [
      "   id    name  age  mark\n",
      "2   3     Ann   23    70\n",
      "1   2  Khushi   23    80\n",
      "0   1    Zoya   23    95\n",
      "\n",
      "   id    name  age  mark\n",
      "0   1    Zoya   23    95\n",
      "1   2  Khushi   23    80\n",
      "2   3     Ann   23    70\n"
     ]
    }
   ],
   "source": [
    "#7\n",
    "print(sorted_frame)\n",
    "print()\n",
    "dataframe_custom = sorted_frame.reset_index()\n",
    "print(dataframe)\n",
    "\n"
   ]
  },
  {
   "cell_type": "code",
   "execution_count": 45,
   "id": "6a185496-fcbf-47eb-a9e9-1b2345dd0fe6",
   "metadata": {},
   "outputs": [
    {
     "name": "stdout",
     "output_type": "stream",
     "text": [
      "   id    name  age  mark\n",
      "0   1    Zoya   23    95\n",
      "1   2  Khushi   23    80\n",
      "2   3     Ann   23    70\n",
      "\n",
      "   id    name  age  mark\n",
      "0   1    Zoya   23    95\n",
      "1   2  Khushi   23    80\n"
     ]
    }
   ],
   "source": [
    "#8\n",
    "print(dataframe)\n",
    "print()\n",
    "select = dataframe.loc[[0,1],:]\n",
    "print(select)"
   ]
  },
  {
   "cell_type": "code",
   "execution_count": 48,
   "id": "e6913163-8b83-4031-88a5-072ecbd62e68",
   "metadata": {},
   "outputs": [
    {
     "name": "stdout",
     "output_type": "stream",
     "text": [
      "   id    name  age  mark\n",
      "0   1    Zoya   23    95\n",
      "1   2  Khushi   23    80\n",
      "2   3     Ann   23    70\n",
      "\n",
      "name\n",
      "Ann       70.0\n",
      "Khushi    80.0\n",
      "Zoya      95.0\n",
      "Name: mark, dtype: float64\n"
     ]
    }
   ],
   "source": [
    "#9\n",
    "print(dataframe)\n",
    "print()\n",
    "avg=dataframe.groupby('name')['mark'].mean()\n",
    "print(avg)"
   ]
  },
  {
   "cell_type": "code",
   "execution_count": 15,
   "id": "d42cc4f9-7585-420a-8898-390eafaa0d2d",
   "metadata": {},
   "outputs": [
    {
     "name": "stdout",
     "output_type": "stream",
     "text": [
      "Original DataFrame\n",
      "    name  mark\n",
      "0   Zoya  25.0\n",
      "1  Shaan  28.6\n",
      "2    Ann   NaN\n",
      "3   Sree  20.0\n",
      "4   Lisa   NaN\n",
      "\n",
      "New DataFrame replacing all NaN values with 0:\n",
      "    name  mark\n",
      "0   Zoya  25.0\n",
      "1  Shaan  28.6\n",
      "2    Ann   0.0\n",
      "3   Sree  20.0\n",
      "4   Lisa   0.0\n"
     ]
    }
   ],
   "source": [
    "# 10:GIven a dataframe with NaN values,fill the NaN values with 0\n",
    "\n",
    "import pandas as pd\n",
    "import numpy as np\n",
    "data = {'name': ['Zoya','Shaan','Ann','Sree','Lisa'],\n",
    "        'mark': [25, 28.6,np.nan,20,np.nan]}\n",
    "df = pd.DataFrame(data)\n",
    "print(\"Original DataFrame\")\n",
    "print(df)\n",
    "df =  df.fillna(0)\n",
    "print(\"\\nNew DataFrame replacing all NaN values with 0:\")\n",
    "print(df)"
   ]
  },
  {
   "cell_type": "code",
   "execution_count": 26,
   "id": "81205aca-7579-45dd-ac4a-3ab21a58e243",
   "metadata": {},
   "outputs": [
    {
     "name": "stdout",
     "output_type": "stream",
     "text": [
      "         cname  profit\n",
      "0  ABC company  -10000\n",
      "1  XYZ company   -6000\n",
      "2  HSS company    2000\n",
      "\n",
      "         cname  profit\n",
      "0  ABC company   False\n",
      "1  XYZ company   False\n",
      "2  HSS company    True\n"
     ]
    }
   ],
   "source": [
    "#11\n",
    "import pandas as pd\n",
    "cmpy = {'cname' : ['ABC company', 'XYZ company', 'HSS company'], 'profit' : [-10000,-6000,2000]}\n",
    "cm = pd.DataFrame(cmpy)\n",
    "print(cm)\n",
    "\n",
    "print()\n",
    "cm['profit'] = cm['profit'].apply(lambda x:x>0)\n",
    "print(cm)"
   ]
  },
  {
   "cell_type": "code",
   "execution_count": 22,
   "id": "9c495e1d-ab7c-42e9-88b0-397b6da04f95",
   "metadata": {},
   "outputs": [
    {
     "name": "stdout",
     "output_type": "stream",
     "text": [
      "  eid  ename  stipend\n",
      "0   1     21     5000\n",
      "1   2     19     6000\n",
      "2   3     29     7000\n",
      "\n",
      "\n",
      "  eid designation\n",
      "0   1      senior\n",
      "1   2     manager\n",
      "2   3    employee\n",
      "\n",
      "  eid  ename  stipend designation\n",
      "0   1     21     5000      senior\n",
      "1   2     19     6000     manager\n",
      "2   3     29     7000    employee\n"
     ]
    }
   ],
   "source": [
    "#12\n",
    "emp_data={'eid': ['1' , '2' , '3'],\n",
    "      'ename': [21,19,29],\n",
    "       'stipend' : [5000,6000,7000]\n",
    "      }\n",
    "dataframe1 = pd.DataFrame(emp_data)\n",
    "print(dataframe1)\n",
    "print()\n",
    "company_data={'eid': ['1' , '2' , '3'],\n",
    "      'designation': ['senior' , 'manager' , 'employee']\n",
    "      }\n",
    "dataframe2 = pd.DataFrame(company_data)\n",
    "print()\n",
    "print(dataframe2)\n",
    "print()\n",
    "output_dataframe = pd.merge(dataframe1,dataframe2, how='inner', on='eid')\n",
    "print(output_dataframe)"
   ]
  },
  {
   "cell_type": "code",
   "execution_count": null,
   "id": "f4429142-fdd3-4cf5-94e7-24ff3442a1f3",
   "metadata": {},
   "outputs": [],
   "source": []
  }
 ],
 "metadata": {
  "kernelspec": {
   "display_name": "Python 3 (ipykernel)",
   "language": "python",
   "name": "python3"
  },
  "language_info": {
   "codemirror_mode": {
    "name": "ipython",
    "version": 3
   },
   "file_extension": ".py",
   "mimetype": "text/x-python",
   "name": "python",
   "nbconvert_exporter": "python",
   "pygments_lexer": "ipython3",
   "version": "3.9.12"
  }
 },
 "nbformat": 4,
 "nbformat_minor": 5
}
